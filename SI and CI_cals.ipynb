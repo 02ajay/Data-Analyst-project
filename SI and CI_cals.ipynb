{
 "cells": [
  {
   "cell_type": "code",
   "execution_count": 26,
   "id": "19b6a0e6-c48f-4fb4-a212-d7309dffc8d7",
   "metadata": {},
   "outputs": [],
   "source": [
    "# Calulation of Simple and Compund intrest"
   ]
  },
  {
   "cell_type": "code",
   "execution_count": 38,
   "id": "b71a721b-af4b-4645-83d9-ca9b81172b89",
   "metadata": {},
   "outputs": [
    {
     "name": "stdin",
     "output_type": "stream",
     "text": [
      "Enter the principle amount : 5000\n",
      "Enter the time period : 10\n",
      "Enter the rate of interest : 6\n"
     ]
    }
   ],
   "source": [
    "def SI_CI(p,t,r):\n",
    "    print('The principal is', p)\n",
    "    print('The time period is', t)\n",
    "    print('The rate of interest is',r)\n",
    "     \n",
    "    si = (p * t * r)/100\n",
    "    ci =p*(1+r/100)*t\n",
    "    print('The Simple Interest is', si)\n",
    "    print('The Compoun Interest is', ci)\n",
    "\n",
    "P = int(input(\"Enter the principle amount :\"))\n",
    "T = int(input(\"Enter the time period :\"))\n",
    "R = int(input(\"Enter the rate of interest :\"))\n",
    "SI_CI(P,T,R)"
   ]
  },
  {
   "cell_type": "code",
   "execution_count": null,
   "id": "2c82c80e-6fff-488f-b5b7-e86d4f6ae3a2",
   "metadata": {},
   "outputs": [],
   "source": []
  }
 ],
 "metadata": {
  "kernelspec": {
   "display_name": "Python 3 (ipykernel)",
   "language": "python",
   "name": "python3"
  },
  "language_info": {
   "codemirror_mode": {
    "name": "ipython",
    "version": 3
   },
   "file_extension": ".py",
   "mimetype": "text/x-python",
   "name": "python",
   "nbconvert_exporter": "python",
   "pygments_lexer": "ipython3",
   "version": "3.9.13"
  }
 },
 "nbformat": 4,
 "nbformat_minor": 5
}
